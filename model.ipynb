{
 "cells": [
  {
   "cell_type": "markdown",
   "id": "5d28f550",
   "metadata": {},
   "source": [
    "## Image example"
   ]
  },
  {
   "cell_type": "code",
   "execution_count": 27,
   "id": "402d90a0",
   "metadata": {},
   "outputs": [],
   "source": [
    "from PIL import Image\n",
    "import numpy as np\n",
    "import torch\n",
    "# 000000093965# Load and preprocess the image\n",
    "image = Image.open(\"/home/bibhabasum/projects/IIIT/data/coco/val2017/000000397133.jpg\")\n",
    "image = image.resize((640, 640))  # Resize to model input size\n",
    "image = np.asarray(image).astype(np.float32) / 255.0  # Normalize to [0, 1]\n",
    "image = torch.tensor(image).permute(2, 0, 1).unsqueeze(0)  # Convert to tensor and add batch dimension\n",
    "# image = torch.concat([image, image],axis=0)"
   ]
  },
  {
   "cell_type": "code",
   "execution_count": 28,
   "id": "fe9a01dc",
   "metadata": {},
   "outputs": [
    {
     "name": "stderr",
     "output_type": "stream",
     "text": [
      "/tmp/ipykernel_3434970/2002377975.py:5: FutureWarning: You are using `torch.load` with `weights_only=False` (the current default value), which uses the default pickle module implicitly. It is possible to construct malicious pickle data which will execute arbitrary code during unpickling (See https://github.com/pytorch/pytorch/blob/main/SECURITY.md#untrusted-models for more details). In a future release, the default value for `weights_only` will be flipped to `True`. This limits the functions that could be executed during unpickling. Arbitrary objects will no longer be allowed to be loaded via this mode unless they are explicitly allowlisted by the user via `torch.serialization.add_safe_globals`. We recommend you start setting `weights_only=True` for any use case where you don't have full control of the loaded file. Please open an issue on GitHub for any issues related to this experimental feature.\n",
      "  weights = torch.load('/home/bibhabasum/projects/IIIT/ultralytics/model_state_dict.pth',map_location=\"cpu\") # Load weights\n"
     ]
    }
   ],
   "source": [
    "from model import DetectionModel\n",
    "\n",
    "model = DetectionModel(nc = 80)\n",
    "    # print(model)\n",
    "weights = torch.load('/home/bibhabasum/projects/IIIT/ultralytics/model_state_dict.pth',map_location=\"cpu\") # Load weights\n",
    "model.load_state_dict(weights, strict=True)  # Load model weights\n",
    "\n",
    "model.eval()\n",
    "\n",
    "output = model(image) "
   ]
  },
  {
   "cell_type": "code",
   "execution_count": 29,
   "id": "0deabf0c",
   "metadata": {},
   "outputs": [
    {
     "data": {
      "text/plain": [
       "torch.Size([1, 300, 6])"
      ]
     },
     "execution_count": 29,
     "metadata": {},
     "output_type": "execute_result"
    }
   ],
   "source": [
    "output.shape"
   ]
  },
  {
   "cell_type": "code",
   "execution_count": 33,
   "id": "98a51600",
   "metadata": {},
   "outputs": [],
   "source": [
    "from utils import non_max_suppression\n",
    "\n",
    "final = non_max_suppression(output,0.5,0.7)"
   ]
  },
  {
   "cell_type": "code",
   "execution_count": 34,
   "id": "5fdec71f",
   "metadata": {},
   "outputs": [
    {
     "data": {
      "text/plain": [
       "[tensor([[3.8518e+02, 1.0337e+02, 4.9894e+02, 5.2086e+02, 8.8513e-01, 0.0000e+00],\n",
       "         [1.2550e-01, 3.9502e+02, 6.1564e+01, 4.6465e+02, 7.6010e-01, 0.0000e+00],\n",
       "         [5.7164e+01, 4.3292e+02, 1.3615e+02, 4.9117e+02, 7.5265e-01, 4.5000e+01],\n",
       "         [1.5434e+02, 2.5250e+02, 1.8292e+02, 2.7496e+02, 6.3679e-01, 4.5000e+01],\n",
       "         [4.8683e+02, 3.0134e+02, 6.2021e+02, 5.1356e+02, 6.1026e-01, 6.9000e+01],\n",
       "         [3.1458e-01, 2.9124e+02, 1.9438e+02, 4.4756e+02, 5.2711e-01, 6.9000e+01]],\n",
       "        grad_fn=<IndexBackward0>)]"
      ]
     },
     "execution_count": 34,
     "metadata": {},
     "output_type": "execute_result"
    }
   ],
   "source": [
    "final"
   ]
  },
  {
   "cell_type": "code",
   "execution_count": 35,
   "id": "08c35a72",
   "metadata": {},
   "outputs": [
    {
     "data": {
      "text/plain": [
       "True"
      ]
     },
     "execution_count": 35,
     "metadata": {},
     "output_type": "execute_result"
    }
   ],
   "source": [
    "import cv2\n",
    "\n",
    "from classes_dict import classes_dict\n",
    "from IPython.display import display, Image as IPImage\n",
    "\n",
    "# Convert the image tensor to a numpy array and scale it back to [0, 255]\n",
    "image_np = (image.squeeze().permute(1, 2, 0).numpy() * 255).astype(np.uint8)\n",
    "\n",
    "# Draw bounding boxes\n",
    "for detection in final[0]:  # Iterate over detections\n",
    "    x1, y1, x2, y2, conf, cls = detection.tolist()\n",
    "    class_name = classes_dict.get(int(cls), \"Unknown\")\n",
    "    label = f\"{class_name} {conf:.2f}\"\n",
    "    \n",
    "    # Draw rectangle\n",
    "    cv2.rectangle(image_np, (int(x1), int(y1)), (int(x2), int(y2)), (0, 255, 0), 2)\n",
    "    \n",
    "    # Put label\n",
    "    cv2.putText(image_np, label, (int(x1), int(y1) - 10), cv2.FONT_HERSHEY_SIMPLEX, 0.5, (0, 255, 0), 2)\n",
    "\n",
    "# Display the image (if running locally)\n",
    "# display(IPImage(\"temp_output.jpg\"))\n",
    "# cv2.waitKey(0)\n",
    "# cv2.destroyAllWindows()\n",
    "\n",
    "# Save the image with bounding boxes\n",
    "cv2.imwrite(\"output_with_bboxes.jpg\", image_np)"
   ]
  },
  {
   "cell_type": "code",
   "execution_count": null,
   "id": "4b88931e",
   "metadata": {},
   "outputs": [],
   "source": []
  }
 ],
 "metadata": {
  "kernelspec": {
   "display_name": "torch-main",
   "language": "python",
   "name": "python3"
  },
  "language_info": {
   "codemirror_mode": {
    "name": "ipython",
    "version": 3
   },
   "file_extension": ".py",
   "mimetype": "text/x-python",
   "name": "python",
   "nbconvert_exporter": "python",
   "pygments_lexer": "ipython3",
   "version": "3.11.9"
  }
 },
 "nbformat": 4,
 "nbformat_minor": 5
}
